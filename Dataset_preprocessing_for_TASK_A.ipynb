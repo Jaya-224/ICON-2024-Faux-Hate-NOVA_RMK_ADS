{
  "cells": [
    {
      "cell_type": "code",
      "source": [
        "import pandas as pd\n",
        "import re\n",
        "import string\n",
        "\n",
        "# Load the dataset\n",
        "file_path = \"Train_Task_A.xlsx\"\n",
        "data = pd.read_excel(file_path)\n",
        "\n",
        "# Preview the data\n",
        "print(\"Initial Dataset:\\n\", data.head())\n",
        "\n",
        "# Preprocessing function for text cleaning\n",
        "def preprocess_text(text):\n",
        "    if isinstance(text, str):  # Check if the text is a string\n",
        "        # Remove URLs\n",
        "        text = re.sub(r'http\\S+|www\\S+|https\\S+', '', text, flags=re.MULTILINE)\n",
        "        # Remove user mentions (@username)\n",
        "        text = re.sub(r'@\\w+', '', text)\n",
        "        # Remove hashtags\n",
        "        text = re.sub(r'#\\w+', '', text)\n",
        "        # Remove emojis\n",
        "        text = re.sub(r'[^\\w\\s,]', '', text)\n",
        "        # Remove punctuation\n",
        "        text = text.translate(str.maketrans('', '', string.punctuation))\n",
        "        # Convert to lowercase\n",
        "        text = text.lower()\n",
        "        # Remove extra spaces\n",
        "        text = re.sub(r'\\s+', ' ', text).strip()\n",
        "        return text\n",
        "    else:\n",
        "        return \"\"  # Return an empty string if the value is not a string\n",
        "\n",
        "# Ensure all values in the 'Tweet' column are strings and handle missing values\n",
        "data['Tweet'] = data['Tweet'].fillna(\"\").astype(str)\n",
        "\n",
        "# Apply preprocessing to the 'Tweet' column\n",
        "data['Cleaned_Tweet'] = data['Tweet'].apply(preprocess_text)\n",
        "\n",
        "# Save the preprocessed dataset to a CSV file\n",
        "output_file_path = \"Preprocessed_Train_Task_A.csv\"\n",
        "data.to_csv(output_file_path, index=False)\n",
        "\n",
        "print(f\"Preprocessed dataset saved to {output_file_path}\")\n",
        "\n",
        "# Check dataset consistency\n",
        "print(\"Dataset Info:\")\n",
        "print(data.info())\n",
        "\n",
        "print(\"Sample of Preprocessed Data:\")\n",
        "print(data[['Tweet', 'Cleaned_Tweet', 'Hate', 'Fake']].head())\n"
      ],
      "metadata": {
        "colab": {
          "base_uri": "https://localhost:8080/"
        },
        "id": "SiW2zyn8j1Nq",
        "outputId": "a18c0596-59c7-4515-9dbe-d83827d641e8"
      },
      "execution_count": null,
      "outputs": [
        {
          "output_type": "stream",
          "name": "stdout",
          "text": [
            "Initial Dataset:\n",
            "      Id                                              Tweet  Hate  Fake\n",
            "0  5723  @sudhirchaudhary Abhi tak 2000 ke note me mujh...     0     0\n",
            "1  2338  @Gulamane_raza @MustakimRazvi Abe katiye tumse...     1     1\n",
            "2  1579  @RajatSharmaLive Ye sab sazish hai....bina sam...     1     1\n",
            "3  6524  abe jao tum to dasko pahle hi fash gye the jab...     1     0\n",
            "4  7618  Ab ye afbah kaun faila Raha hai ki Shahhen bag...     0     0\n",
            "Preprocessed dataset saved to Preprocessed_Train_Task_A.csv\n",
            "Dataset Info:\n",
            "<class 'pandas.core.frame.DataFrame'>\n",
            "RangeIndex: 6396 entries, 0 to 6395\n",
            "Data columns (total 5 columns):\n",
            " #   Column         Non-Null Count  Dtype \n",
            "---  ------         --------------  ----- \n",
            " 0   Id             6396 non-null   int64 \n",
            " 1   Tweet          6396 non-null   object\n",
            " 2   Hate           6396 non-null   int64 \n",
            " 3   Fake           6396 non-null   int64 \n",
            " 4   Cleaned_Tweet  6396 non-null   object\n",
            "dtypes: int64(3), object(2)\n",
            "memory usage: 250.0+ KB\n",
            "None\n",
            "Sample of Preprocessed Data:\n",
            "                                               Tweet  \\\n",
            "0  @sudhirchaudhary Abhi tak 2000 ke note me mujh...   \n",
            "1  @Gulamane_raza @MustakimRazvi Abe katiye tumse...   \n",
            "2  @RajatSharmaLive Ye sab sazish hai....bina sam...   \n",
            "3  abe jao tum to dasko pahle hi fash gye the jab...   \n",
            "4  Ab ye afbah kaun faila Raha hai ki Shahhen bag...   \n",
            "\n",
            "                                       Cleaned_Tweet  Hate  Fake  \n",
            "0  abhi tak 2000 ke note me mujhe gps nano chip n...     0     0  \n",
            "1  abe katiye tumse kuch huaa toh jata nahi bas b...     1     1  \n",
            "2  ye sab sazish haibina saman ke koi kaise apne ...     1     1  \n",
            "3  abe jao tum to dasko pahle hi fash gye the jab...     1     0  \n",
            "4  ab ye afbah kaun faila raha hai ki shahhen bag...     0     0  \n"
          ]
        }
      ]
    },
    {
      "cell_type": "code",
      "source": [
        "import matplotlib.pyplot as plt\n",
        "\n",
        "# Check for missing or empty rows\n",
        "missing_text = data['Cleaned_Tweet'].isnull().sum()\n",
        "empty_text = data['Cleaned_Tweet'].str.strip().eq(\"\").sum()\n",
        "\n",
        "print(f\"Missing rows in 'cleaned_text': {missing_text}\")\n",
        "print(f\"Empty rows in 'cleaned_text': {empty_text}\")\n",
        "\n",
        "# Analyze token distribution\n",
        "data['text_length'] = data['Cleaned_Tweet'].apply(lambda x: len(x.split()))\n",
        "print(data['text_length'].describe())  # Show statistics for text length\n",
        "\n",
        "plt.hist(data['text_length'], bins=30, color='skyblue', edgecolor='black')\n",
        "plt.title(\"Token Distribution in Cleaned Text\")\n",
        "plt.xlabel(\"Number of Tokens\")\n",
        "plt.ylabel(\"Frequency\")\n",
        "plt.show()\n",
        "\n",
        "# Check class balance for labels\n",
        "fake_distribution = data['Fake'].value_counts()\n",
        "hate_distribution = data['Hate'].value_counts()\n",
        "\n",
        "print(\"Fake Label Distribution:\")\n",
        "print(fake_distribution)\n",
        "\n",
        "print(\"Hate Label Distribution:\")\n",
        "print(hate_distribution)\n",
        "\n",
        "# Plot class balance\n",
        "fig, axes = plt.subplots(1, 2, figsize=(12, 6))\n",
        "fake_distribution.plot(kind='bar', ax=axes[0], title=\"Fake Label Distribution\", color=['orange', 'green'])\n",
        "hate_distribution.plot(kind='bar', ax=axes[1], title=\"Hate Label Distribution\", color=['purple', 'blue'])\n",
        "plt.show()\n"
      ],
      "metadata": {
        "colab": {
          "base_uri": "https://localhost:8080/",
          "height": 1000
        },
        "id": "or-rcTJekJ5p",
        "outputId": "e3f463c3-b87b-41c9-b9c9-c4cbe37bc6ad"
      },
      "execution_count": null,
      "outputs": [
        {
          "output_type": "stream",
          "name": "stdout",
          "text": [
            "Missing rows in 'cleaned_text': 0\n",
            "Empty rows in 'cleaned_text': 8\n",
            "count    6396.000000\n",
            "mean       25.759537\n",
            "std        15.855180\n",
            "min         0.000000\n",
            "25%        13.000000\n",
            "50%        24.000000\n",
            "75%        38.000000\n",
            "max       234.000000\n",
            "Name: text_length, dtype: float64\n"
          ]
        },
        {
          "output_type": "display_data",
          "data": {
            "text/plain": [
              "<Figure size 640x480 with 1 Axes>"
            ],
            "image/png": "[encoded data removed]"
          },
          "metadata": {}
        },
        {
          "output_type": "stream",
          "name": "stdout",
          "text": [
            "Fake Label Distribution:\n",
            "Fake\n",
            "1    3286\n",
            "0    3110\n",
            "Name: count, dtype: int64\n",
            "Hate Label Distribution:\n",
            "Hate\n",
            "1    4101\n",
            "0    2295\n",
            "Name: count, dtype: int64\n"
          ]
        },
        {
          "output_type": "display_data",
          "data": {
            "text/plain": [
              "<Figure size 1200x600 with 2 Axes>"
            ],
            "image/png": "[encoded data removed]"
          },
          "metadata": {}
        }
      ]
    },
    {
      "cell_type": "code",
      "source": [
        "from sklearn.utils import resample\n",
        "\n",
        "# Remove rows with empty 'Cleaned_Tweet'\n",
        "data = data[data['Cleaned_Tweet'] != \"\"]  # Exclude rows where text length is 0\n",
        "\n",
        "# Separate majority and minority classes\n",
        "hate_majority = data[data['Hate'] == 1]\n",
        "hate_minority = data[data['Hate'] == 0]\n",
        "\n",
        "# Oversample the minority class\n",
        "hate_minority_oversampled = resample(\n",
        "    hate_minority,\n",
        "    replace=True,  # Sample with replacement\n",
        "    n_samples=len(hate_majority),  # Match number of majority class\n",
        "    random_state=42  # For reproducibility\n",
        ")\n",
        "\n",
        "# Combine the oversampled minority class with the majority class\n",
        "balanced_data = pd.concat([hate_majority, hate_minority_oversampled])\n",
        "\n",
        "# Shuffle the dataset\n",
        "balanced_data = balanced_data.sample(frac=1, random_state=42).reset_index(drop=True)\n",
        "\n",
        "# Save the balanced dataset to a CSV file\n",
        "balanced_output_file_path = \"Balanced_Train_Task_A.csv\"\n",
        "balanced_data.to_csv(balanced_output_file_path, index=False)\n",
        "\n",
        "# Display basic statistics\n",
        "print(f\"Balanced dataset saved to {balanced_output_file_path}\")\n",
        "print(\"Balanced 'Hate' Label Distribution:\\n\", balanced_data['Hate'].value_counts())\n",
        "print(\"Balanced 'Fake' Label Distribution:\\n\", balanced_data['Fake'].value_counts())\n",
        "\n",
        "# Check for any remaining missing values\n",
        "missing_rows = balanced_data[balanced_data['Cleaned_Tweet'] == \"\"]\n",
        "print(f\"Missing rows after balancing: {len(missing_rows)}\")\n"
      ],
      "metadata": {
        "colab": {
          "base_uri": "https://localhost:8080/"
        },
        "id": "UQsiWqrhldtq",
        "outputId": "5ff8611b-70f6-4dd7-b9ea-35145a44764a"
      },
      "execution_count": null,
      "outputs": [
        {
          "output_type": "stream",
          "name": "stdout",
          "text": [
            "Balanced dataset saved to Balanced_Train_Task_A.csv\n",
            "Balanced 'Hate' Label Distribution:\n",
            " Hate\n",
            "1    4098\n",
            "0    4098\n",
            "Name: count, dtype: int64\n",
            "Balanced 'Fake' Label Distribution:\n",
            " Fake\n",
            "0    4404\n",
            "1    3792\n",
            "Name: count, dtype: int64\n",
            "Missing rows after balancing: 0\n"
          ]
        }
      ]
    },
    {
      "cell_type": "code",
      "source": [
        "import matplotlib.pyplot as plt\n",
        "data =  pd.read_csv('Balanced_Train_Task_A.csv')\n",
        "\n",
        "# Check for missing or empty rows\n",
        "missing_text = data['Cleaned_Tweet'].isnull().sum()\n",
        "empty_text = data['Cleaned_Tweet'].str.strip().eq(\"\").sum()\n",
        "\n",
        "print(f\"Missing rows in 'cleaned_text': {missing_text}\")\n",
        "print(f\"Empty rows in 'cleaned_text': {empty_text}\")\n",
        "\n",
        "# Analyze token distribution\n",
        "data['text_length'] = data['Cleaned_Tweet'].apply(lambda x: len(x.split()))\n",
        "print(data['text_length'].describe())  # Show statistics for text length\n",
        "\n",
        "plt.hist(data['text_length'], bins=30, color='skyblue', edgecolor='black')\n",
        "plt.title(\"Token Distribution in Cleaned Text\")\n",
        "plt.xlabel(\"Number of Tokens\")\n",
        "plt.ylabel(\"Frequency\")\n",
        "plt.show()\n",
        "\n",
        "# Check class balance for labels\n",
        "fake_distribution = data['Fake'].value_counts()\n",
        "hate_distribution = data['Hate'].value_counts()\n",
        "\n",
        "print(\"Fake Label Distribution:\")\n",
        "print(fake_distribution)\n",
        "\n",
        "print(\"Hate Label Distribution:\")\n",
        "print(hate_distribution)\n",
        "\n",
        "# Plot class balance\n",
        "fig, axes = plt.subplots(1, 2, figsize=(12, 6))\n",
        "fake_distribution.plot(kind='bar', ax=axes[0], title=\"Fake Label Distribution\", color=['orange', 'green'])\n",
        "hate_distribution.plot(kind='bar', ax=axes[1], title=\"Hate Label Distribution\", color=['purple', 'blue'])\n",
        "plt.show()"
      ],
      "metadata": {
        "colab": {
          "base_uri": "https://localhost:8080/",
          "height": 1000
        },
        "id": "yhG5BckOljk8",
        "outputId": "2cdbdeb1-88c0-4907-b340-876f7ee98c01"
      },
      "execution_count": null,
      "outputs": [
        {
          "output_type": "stream",
          "name": "stdout",
          "text": [
            "Missing rows in 'cleaned_text': 0\n",
            "Empty rows in 'cleaned_text': 0\n",
            "count    8196.000000\n",
            "mean       25.096755\n",
            "std        15.735823\n",
            "min         1.000000\n",
            "25%        12.000000\n",
            "50%        23.000000\n",
            "75%        37.000000\n",
            "max       234.000000\n",
            "Name: text_length, dtype: float64\n"
          ]
        },
        {
          "output_type": "display_data",
          "data": {
            "text/plain": [
              "<Figure size 640x480 with 1 Axes>"
            ],
            "image/png": "[encoded data removed]"
          },
          "metadata": {}
        },
        {
          "output_type": "stream",
          "name": "stdout",
          "text": [
            "Fake Label Distribution:\n",
            "Fake\n",
            "0    4404\n",
            "1    3792\n",
            "Name: count, dtype: int64\n",
            "Hate Label Distribution:\n",
            "Hate\n",
            "1    4098\n",
            "0    4098\n",
            "Name: count, dtype: int64\n"
          ]
        },
        {
          "output_type": "display_data",
          "data": {
            "text/plain": [
              "<Figure size 1200x600 with 2 Axes>"
            ],
            "image/png": "[encoded data removed]"
          },
          "metadata": {}
        }
      ]
    },
    {
      "cell_type": "code",
      "source": [
        "# Check for duplicate rows\n",
        "duplicate_rows = data.duplicated(subset=['Cleaned_Tweet'], keep=False)\n",
        "print(f\"Number of duplicate rows: {duplicate_rows.sum()}\")\n",
        "\n",
        "# Remove duplicates\n",
        "data = data.drop_duplicates(subset=['Cleaned_Tweet'], keep='first').reset_index(drop=True)\n",
        "print(f\"Dataset size after removing duplicates: {len(data)}\")\n"
      ],
      "metadata": {
        "colab": {
          "base_uri": "https://localhost:8080/"
        },
        "id": "1R7qt4n6mwG_",
        "outputId": "7971e17e-7187-4984-a292-5848c0586b6c"
      },
      "execution_count": null,
      "outputs": [
        {
          "output_type": "stream",
          "name": "stdout",
          "text": [
            "Number of duplicate rows: 3614\n",
            "Dataset size after removing duplicates: 5851\n"
          ]
        }
      ]
    },
    {
      "cell_type": "code",
      "source": [
        "# Recheck class distributions\n",
        "print(\"Hate Label Distribution After Removing Duplicates:\")\n",
        "print(data['Hate'].value_counts())\n",
        "\n",
        "print(\"\\nFake Label Distribution After Removing Duplicates:\")\n",
        "print(data['Fake'].value_counts())\n"
      ],
      "metadata": {
        "id": "4D4iVhMKm1bZ",
        "colab": {
          "base_uri": "https://localhost:8080/"
        },
        "outputId": "6748080a-79fa-47e0-af2c-0020bcbfb740"
      },
      "execution_count": null,
      "outputs": [
        {
          "output_type": "stream",
          "name": "stdout",
          "text": [
            "Hate Label Distribution After Removing Duplicates:\n",
            "Hate\n",
            "1    4014\n",
            "0    1837\n",
            "Name: count, dtype: int64\n",
            "\n",
            "Fake Label Distribution After Removing Duplicates:\n",
            "Fake\n",
            "1    3097\n",
            "0    2754\n",
            "Name: count, dtype: int64\n"
          ]
        }
      ]
    },
    {
      "cell_type": "code",
      "source": [
        "data.to_csv('Preprocessed_Balanced_Dataset.csv', index=False)\n",
        "print(\"Balanced and preprocessed dataset saved.\")\n"
      ],
      "metadata": {
        "colab": {
          "base_uri": "https://localhost:8080/"
        },
        "id": "gxf2UoXhb2vM",
        "outputId": "dcaaa7b9-df8f-483a-f963-69b0d7f89e05"
      },
      "execution_count": null,
      "outputs": [
        {
          "output_type": "stream",
          "name": "stdout",
          "text": [
            "Balanced and preprocessed dataset saved.\n"
          ]
        }
      ]
    },
    {
      "cell_type": "code",
      "source": [
        "data =  pd.read_csv('Preprocessed_Balanced_Dataset.csv')\n",
        "duplicate_rows = data.duplicated(subset=['Cleaned_Tweet'], keep=False)\n",
        "print(f\"Number of duplicate rows: {duplicate_rows.sum()}\")"
      ],
      "metadata": {
        "colab": {
          "base_uri": "https://localhost:8080/"
        },
        "id": "wqlH-2Jfb6GE",
        "outputId": "44cebaa5-2f27-48f9-8c58-3a354563bc89"
      },
      "execution_count": null,
      "outputs": [
        {
          "output_type": "stream",
          "name": "stdout",
          "text": [
            "Number of duplicate rows: 0\n"
          ]
        }
      ]
    },
    {
      "cell_type": "code",
      "source": [
        "# Check unique values in 'Hate' and 'Fake'\n",
        "print(\"Unique values in 'Hate':\", data['Hate'].unique())\n",
        "print(\"Unique values in 'Fake':\", data['Fake'].unique())\n",
        "\n",
        "# Find rows with invalid labels (if any)\n",
        "invalid_labels = data[(~data['Hate'].isin([0, 1])) | (~data['Fake'].isin([0, 1]))]\n",
        "print(f\"Rows with invalid labels: {len(invalid_labels)}\")\n"
      ],
      "metadata": {
        "colab": {
          "base_uri": "https://localhost:8080/"
        },
        "id": "wgBkEOXscJED",
        "outputId": "a2bb3e45-96e1-4d3b-ffe4-237e961f83eb"
      },
      "execution_count": null,
      "outputs": [
        {
          "output_type": "stream",
          "name": "stdout",
          "text": [
            "Unique values in 'Hate': [1 0]\n",
            "Unique values in 'Fake': [0 1]\n",
            "Rows with invalid labels: 0\n"
          ]
        }
      ]
    },
    {
      "cell_type": "code",
      "source": [
        "# Analyze text length statistics\n",
        "data['text_length'] = data['Cleaned_Tweet'].apply(len)\n",
        "print(data['text_length'].describe())\n",
        "\n",
        "# Filter rows based on text length if necessary\n",
        "min_length = 5   # Minimum characters for meaningful text\n",
        "max_length = 280  # Twitter's maximum character limit\n",
        "data = data[(data['text_length'] >= min_length) & (data['text_length'] <= max_length)]\n",
        "\n",
        "print(f\"Dataset size after filtering by text length: {len(data)}\")\n"
      ],
      "metadata": {
        "colab": {
          "base_uri": "https://localhost:8080/"
        },
        "id": "H-MZPe8pcSAS",
        "outputId": "ca530a25-267d-459d-d77a-fdd1dc49abfb"
      },
      "execution_count": null,
      "outputs": [
        {
          "output_type": "stream",
          "name": "stdout",
          "text": [
            "count    5851.000000\n",
            "mean      136.288498\n",
            "std        79.678496\n",
            "min         1.000000\n",
            "25%        73.000000\n",
            "50%       128.000000\n",
            "75%       198.000000\n",
            "max      1160.000000\n",
            "Name: text_length, dtype: float64\n",
            "Dataset size after filtering by text length: 5776\n"
          ]
        }
      ]
    },
    {
      "cell_type": "code",
      "source": [
        "import pandas as pd\n",
        "\n",
        "# Load your preprocessed dataset\n",
        "data = pd.read_csv(\"Preprocessed_Balanced_Dataset.csv\")  # Replace with your actual file name\n",
        "\n",
        "# **1. Check for Missing or Empty Rows**\n",
        "missing_rows = data['Cleaned_Tweet'].isnull().sum()\n",
        "empty_rows = (data['Cleaned_Tweet'].str.strip() == \"\").sum()\n",
        "\n",
        "# **2. Check for Duplicates**\n",
        "duplicate_rows = data.duplicated().sum()\n",
        "\n",
        "# **3. Analyze the Distribution of Labels**\n",
        "hate_distribution = data['Hate'].value_counts()\n",
        "fake_distribution = data['Fake'].value_counts()\n",
        "\n",
        "# **4. Analyze Text Length**\n",
        "data['text_length'] = data['Cleaned_Tweet'].str.len()\n",
        "length_stats = data['text_length'].describe()\n",
        "\n",
        "# **5. Check for Outliers in Text Length**\n",
        "min_length = 5  # Define a minimum acceptable length for tweets\n",
        "max_length = 300  # Define a maximum acceptable length for tweets (based on your use case)\n",
        "outliers = data[(data['text_length'] < min_length) | (data['text_length'] > max_length)].shape[0]\n",
        "\n",
        "# Generate a Summary Report\n",
        "print(\"Dataset Preprocessing Summary:\")\n",
        "print(\"-----------------------------------\")\n",
        "print(f\"Dataset Size: {data.shape[0]} rows\")\n",
        "print(f\"Missing Rows in 'Cleaned_Tweet': {missing_rows}\")\n",
        "print(f\"Empty Rows in 'Cleaned_Tweet': {empty_rows}\")\n",
        "print(f\"Duplicate Rows: {duplicate_rows}\")\n",
        "print(\"\\nLabel Distributions:\")\n",
        "print(f\"Hate Label Distribution:\\n{hate_distribution}\")\n",
        "print(f\"Fake Label Distribution:\\n{fake_distribution}\")\n",
        "print(\"\\nText Length Statistics:\")\n",
        "print(length_stats)\n",
        "print(f\"Number of Outliers in Text Length: {outliers}\")\n",
        "\n",
        "# Final Decision\n",
        "if missing_rows == 0 and empty_rows == 0 and duplicate_rows == 0 and outliers == 0:\n",
        "    print(\"\\n✅ The dataset is perfectly preprocessed and ready for modeling!\")\n",
        "else:\n",
        "    print(\"\\n❌ The dataset has issues that need to be addressed before modeling.\")\n"
      ],
      "metadata": {
        "colab": {
          "base_uri": "https://localhost:8080/"
        },
        "id": "XxdaQs_xc24a",
        "outputId": "501558dc-361a-4cf3-b4a5-21cc4068bcc9",
        "collapsed": true
      },
      "execution_count": null,
      "outputs": [
        {
          "output_type": "stream",
          "name": "stdout",
          "text": [
            "Dataset Preprocessing Summary:\n",
            "-----------------------------------\n",
            "Dataset Size: 5851 rows\n",
            "Missing Rows in 'Cleaned_Tweet': 0\n",
            "Empty Rows in 'Cleaned_Tweet': 0\n",
            "Duplicate Rows: 0\n",
            "\n",
            "Label Distributions:\n",
            "Hate Label Distribution:\n",
            "Hate\n",
            "1    4014\n",
            "0    1837\n",
            "Name: count, dtype: int64\n",
            "Fake Label Distribution:\n",
            "Fake\n",
            "1    3097\n",
            "0    2754\n",
            "Name: count, dtype: int64\n",
            "\n",
            "Text Length Statistics:\n",
            "count    5851.000000\n",
            "mean      136.288498\n",
            "std        79.678496\n",
            "min         1.000000\n",
            "25%        73.000000\n",
            "50%       128.000000\n",
            "75%       198.000000\n",
            "max      1160.000000\n",
            "Name: text_length, dtype: float64\n",
            "Number of Outliers in Text Length: 65\n",
            "\n",
            "❌ The dataset has issues that need to be addressed before modeling.\n"
          ]
        }
      ]
    },
    {
      "cell_type": "code",
      "source": [
        "from sklearn.utils import resample\n",
        "\n",
        "# **1. Remove Text Length Outliers**\n",
        "min_length, max_length = 5, 300\n",
        "data_filtered = data[(data['text_length'] >= min_length) & (data['text_length'] <= max_length)]\n",
        "\n",
        "# **2. Balance Hate Labels with Oversampling**\n",
        "# Separate majority and minority classes for the Hate label\n",
        "hate_majority = data_filtered[data_filtered['Hate'] == 1]\n",
        "hate_minority = data_filtered[data_filtered['Hate'] == 0]\n",
        "\n",
        "# Oversample the minority class\n",
        "hate_minority_oversampled = resample(\n",
        "    hate_minority,\n",
        "    replace=True,  # Sampling with replacement\n",
        "    n_samples=len(hate_majority),  # Match the majority class count\n",
        "    random_state=42  # For reproducibility\n",
        ")\n",
        "\n",
        "# Combine oversampled minority class with the majority class\n",
        "data_balanced = pd.concat([hate_majority, hate_minority_oversampled])\n",
        "\n",
        "# **3. Shuffle the Dataset**\n",
        "data_balanced = data_balanced.sample(frac=1, random_state=42).reset_index(drop=True)\n",
        "\n",
        "# **4. Save the Final Preprocessed Dataset**\n",
        "data_balanced.to_csv(\"final_preprocessed_dataset_oversampled.csv\", index=False)\n",
        "\n",
        "# **5. Output Summary**\n",
        "print(\"Final Dataset Summary (Oversampling):\")\n",
        "print(\"--------------------------------------\")\n",
        "print(f\"Dataset Size: {data_balanced.shape[0]} rows\")\n",
        "print(f\"Missing Rows in 'Cleaned_Tweet': {data_balanced['Cleaned_Tweet'].isnull().sum()}\")\n",
        "print(f\"Empty Rows in 'Cleaned_Tweet': {(data_balanced['Cleaned_Tweet'].str.strip() == '').sum()}\")\n",
        "print(\"\\nLabel Distributions:\")\n",
        "print(f\"Hate Label Distribution:\\n{data_balanced['Hate'].value_counts()}\")\n",
        "print(f\"Fake Label Distribution:\\n{data_balanced['Fake'].value_counts()}\")\n",
        "print(\"\\nText Length Statistics:\")\n",
        "print(data_balanced['text_length'].describe())\n"
      ],
      "metadata": {
        "colab": {
          "base_uri": "https://localhost:8080/"
        },
        "id": "pyca347KdqGN",
        "outputId": "9d6f07f1-75fc-4061-b993-61fa4aafb305"
      },
      "execution_count": null,
      "outputs": [
        {
          "output_type": "stream",
          "name": "stdout",
          "text": [
            "Final Dataset Summary (Oversampling):\n",
            "--------------------------------------\n",
            "Dataset Size: 7934 rows\n",
            "Missing Rows in 'Cleaned_Tweet': 0\n",
            "Empty Rows in 'Cleaned_Tweet': 0\n",
            "\n",
            "Label Distributions:\n",
            "Hate Label Distribution:\n",
            "Hate\n",
            "1    3967\n",
            "0    3967\n",
            "Name: count, dtype: int64\n",
            "Fake Label Distribution:\n",
            "Fake\n",
            "0    4285\n",
            "1    3649\n",
            "Name: count, dtype: int64\n",
            "\n",
            "Text Length Statistics:\n",
            "count    7934.000000\n",
            "mean      127.757751\n",
            "std        71.912827\n",
            "min         7.000000\n",
            "25%        63.000000\n",
            "50%       120.000000\n",
            "75%       193.000000\n",
            "max       299.000000\n",
            "Name: text_length, dtype: float64\n"
          ]
        }
      ]
    },
    {
      "cell_type": "code",
      "source": [
        "import pandas as pd\n",
        "import random\n",
        "from nltk.corpus import wordnet\n",
        "from sklearn.utils import shuffle\n",
        "\n",
        "# Load the dataset\n",
        "file_path = 'final_preprocessed_dataset_oversampled.csv'\n",
        "df = pd.read_csv(file_path)\n",
        "\n",
        "# Check for duplicates\n",
        "duplicates = df.duplicated(subset='Cleaned_Tweet', keep=False)\n",
        "print(f\"Number of duplicate rows: {duplicates.sum()}\")\n",
        "\n",
        "import nltk\n",
        "nltk.download('wordnet')  # Download WordNet for synonym replacement\n",
        "nltk.download('omw-1.4')  # Download the Open Multilingual WordNet data\n",
        "\n",
        "\n",
        "# Function to perform synonym replacement\n",
        "def synonym_replacement(text, n=1):\n",
        "    words = text.split()\n",
        "    new_words = words.copy()\n",
        "    random_word_list = list(set([word for word in words if wordnet.synsets(word)]))\n",
        "    random.shuffle(random_word_list)\n",
        "\n",
        "    num_replaced = 0\n",
        "    for random_word in random_word_list:\n",
        "        synonyms = wordnet.synsets(random_word)\n",
        "        if synonyms:\n",
        "            synonym = synonyms[0].lemmas()[0].name()\n",
        "            if synonym != random_word:\n",
        "                new_words = [synonym if word == random_word else word for word in new_words]\n",
        "                num_replaced += 1\n",
        "        if num_replaced >= n:\n",
        "            break\n",
        "\n",
        "    return ' '.join(new_words)\n",
        "\n",
        "# Remove duplicates and keep a copy of the removed rows\n",
        "removed_duplicates = df[df.duplicated(subset='Cleaned_Tweet', keep='first')]\n",
        "df = df.drop_duplicates(subset='Cleaned_Tweet', keep='first')\n",
        "\n",
        "# Generate synthetic rows to balance the dataset\n",
        "num_rows_needed = len(removed_duplicates)\n",
        "synthetic_data = []\n",
        "\n",
        "for _, row in removed_duplicates.iterrows():\n",
        "    augmented_text = synonym_replacement(row['Cleaned_Tweet'], n=2)\n",
        "    synthetic_row = row.copy()\n",
        "    synthetic_row['Cleaned_Tweet'] = augmented_text\n",
        "    synthetic_data.append(synthetic_row)\n",
        "\n",
        "# Convert synthetic data into a DataFrame\n",
        "synthetic_df = pd.DataFrame(synthetic_data)\n",
        "\n",
        "# Add the synthetic data back to the original dataset\n",
        "df = pd.concat([df, synthetic_df], ignore_index=True)\n",
        "\n",
        "# Shuffle the dataset\n",
        "df = shuffle(df)\n",
        "\n",
        "# Save the updated dataset\n",
        "output_path = 'Final_balanced_dataset.csv'\n",
        "df.to_csv(output_path, index=False)\n",
        "\n",
        "print(f\"New dataset size: {len(df)}\")\n",
        "print(f\"Processed dataset saved to: {output_path}\")\n"
      ],
      "metadata": {
        "colab": {
          "base_uri": "https://localhost:8080/"
        },
        "id": "FZgSn3Rc6-cr",
        "outputId": "9fd0e084-4b0a-4845-b2d8-4da5e3c9f148"
      },
      "execution_count": null,
      "outputs": [
        {
          "output_type": "stream",
          "name": "stdout",
          "text": [
            "Number of duplicate rows: 3549\n"
          ]
        },
        {
          "output_type": "stream",
          "name": "stderr",
          "text": [
            "[nltk_data] Downloading package wordnet to /root/nltk_data...\n",
            "[nltk_data]   Package wordnet is already up-to-date!\n",
            "[nltk_data] Downloading package omw-1.4 to /root/nltk_data...\n",
            "[nltk_data]   Package omw-1.4 is already up-to-date!\n"
          ]
        },
        {
          "output_type": "stream",
          "name": "stdout",
          "text": [
            "New dataset size: 7934\n",
            "Processed dataset saved to: Final_balanced_dataset.csv\n"
          ]
        }
      ]
    },
    {
      "cell_type": "code",
      "source": [
        "import pandas as pd\n",
        "\n",
        "# Load your preprocessed dataset\n",
        "data = pd.read_csv(\"Final_balanced_dataset.csv\")  # Replace with your actual file name\n",
        "\n",
        "# **1. Check for Missing or Empty Rows**\n",
        "missing_rows = data['Cleaned_Tweet'].isnull().sum()\n",
        "empty_rows = (data['Cleaned_Tweet'].str.strip() == \"\").sum()\n",
        "\n",
        "# **2. Check for Duplicates**\n",
        "duplicate_rows = data.duplicated().sum()\n",
        "\n",
        "# **3. Analyze the Distribution of Labels**\n",
        "hate_distribution = data['Hate'].value_counts()\n",
        "fake_distribution = data['Fake'].value_counts()\n",
        "\n",
        "# **4. Analyze Text Length**\n",
        "data['text_length'] = data['Cleaned_Tweet'].str.len()\n",
        "length_stats = data['text_length'].describe()\n",
        "\n",
        "# **5. Check for Outliers in Text Length**\n",
        "min_length = 5  # Define a minimum acceptable length for tweets\n",
        "max_length = 300  # Define a maximum acceptable length for tweets (based on your use case)\n",
        "outliers = data[(data['text_length'] < min_length) | (data['text_length'] > max_length)].shape[0]\n",
        "\n",
        "# Generate a Summary Report\n",
        "print(\"Dataset Preprocessing Summary:\")\n",
        "print(\"-----------------------------------\")\n",
        "print(f\"Dataset Size: {data.shape[0]} rows\")\n",
        "print(f\"Missing Rows in 'Cleaned_Tweet': {missing_rows}\")\n",
        "print(f\"Empty Rows in 'Cleaned_Tweet': {empty_rows}\")\n",
        "print(f\"Duplicate Rows: {duplicate_rows}\")\n",
        "print(\"\\nLabel Distributions:\")\n",
        "print(f\"Hate Label Distribution:\\n{hate_distribution}\")\n",
        "print(f\"Fake Label Distribution:\\n{fake_distribution}\")\n",
        "print(\"\\nText Length Statistics:\")\n",
        "print(length_stats)\n",
        "print(f\"Number of Outliers in Text Length: {outliers}\")\n",
        "\n",
        "# Final Decision\n",
        "if missing_rows == 0 and empty_rows == 0 and duplicate_rows == 0 and outliers == 0:\n",
        "    print(\"\\n✅ The dataset is perfectly preprocessed and ready for modeling!\")\n",
        "else:\n",
        "    print(\"\\n❌ The dataset has issues that need to be addressed before modeling.\")"
      ],
      "metadata": {
        "colab": {
          "base_uri": "https://localhost:8080/"
        },
        "id": "La9RF4dB7aXB",
        "outputId": "4385e23f-fbb6-4ff5-8ca8-a2847323e2ac",
        "collapsed": true
      },
      "execution_count": null,
      "outputs": [
        {
          "output_type": "stream",
          "name": "stdout",
          "text": [
            "Dataset Preprocessing Summary:\n",
            "-----------------------------------\n",
            "Dataset Size: 7934 rows\n",
            "Missing Rows in 'Cleaned_Tweet': 0\n",
            "Empty Rows in 'Cleaned_Tweet': 0\n",
            "Duplicate Rows: 653\n",
            "\n",
            "Label Distributions:\n",
            "Hate Label Distribution:\n",
            "Hate\n",
            "1    3967\n",
            "0    3967\n",
            "Name: count, dtype: int64\n",
            "Fake Label Distribution:\n",
            "Fake\n",
            "0    4285\n",
            "1    3649\n",
            "Name: count, dtype: int64\n",
            "\n",
            "Text Length Statistics:\n",
            "count    7934.000000\n",
            "mean      130.043484\n",
            "std        72.014047\n",
            "min         7.000000\n",
            "25%        67.000000\n",
            "50%       122.000000\n",
            "75%       195.000000\n",
            "max       299.000000\n",
            "Name: text_length, dtype: float64\n",
            "Number of Outliers in Text Length: 0\n",
            "\n",
            "❌ The dataset has issues that need to be addressed before modeling.\n"
          ]
        }
      ]
    }
  ],
  "metadata": {
    "colab": {
      "provenance": []
    },
    "kernelspec": {
      "display_name": "Python 3",
      "name": "python3"
    },
    "language_info": {
      "name": "python"
    }
  },
  "nbformat": 4,
  "nbformat_minor": 0
}